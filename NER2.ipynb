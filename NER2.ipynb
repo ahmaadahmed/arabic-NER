{
 "cells": [
  {
   "cell_type": "code",
   "execution_count": 1,
   "id": "063ad442",
   "metadata": {},
   "outputs": [],
   "source": [
    "from termcolor import colored\n",
    "import re\n",
    "from transformers import AutoTokenizer, AutoModelForTokenClassification, pipeline"
   ]
  },
  {
   "cell_type": "code",
   "execution_count": 2,
   "id": "ce04592d",
   "metadata": {},
   "outputs": [],
   "source": [
    "# Load tokenizer and model from local directory\n",
    "model_dir = r\"E:\\NER_model\"  # Replace with the actual path\n",
    "tokenizer = AutoTokenizer.from_pretrained(model_dir)\n",
    "model = AutoModelForTokenClassification.from_pretrained(model_dir)"
   ]
  },
  {
   "cell_type": "code",
   "execution_count": 3,
   "id": "74f95d11",
   "metadata": {},
   "outputs": [],
   "source": [
    "# Create NER pipeline\n",
    "ner_pipeline = pipeline(\"ner\", model=model, tokenizer=tokenizer)"
   ]
  },
  {
   "cell_type": "code",
   "execution_count": 16,
   "id": "cf8ac788",
   "metadata": {},
   "outputs": [],
   "source": [
    "nationalities_lst = ['فلسطين','اسرائيل','امريكي', 'أفغاني', 'ألباني', 'جزائري', 'أرجنتيني', 'أرميني', 'أسترالي', 'نمساوي', 'أذربيجاني', 'بحريني', 'بنغلاديشي', 'بيلاروسي', 'بلجيكي', 'بوليفي', 'بوسني', 'برازيلي', 'بلغاري', 'كندي', 'تشيلي', 'صيني', 'كولومبي', 'كوستاريكي', 'كرواتي', 'كوبي', 'تشيكي', 'دنماركي', 'دومينيكاني', 'هولندي', 'إكوادوري', 'مصري', 'سلفادوري', 'إماراتي', 'استوني', 'إثيوبي', 'فنلندي', 'فرنسي', 'جورجي', 'ألماني', 'غاني', 'يوناني', 'غواتيمالي', 'هايتي', 'هندوراسي', 'هنغاري', 'أيسلندي', 'هندي', 'إندونيسي', 'إيراني', 'عراقي', 'أيرلندي', 'إسرائيلي', 'إيطالي', 'جامايكي', 'ياباني', 'أردني', 'كازاخستاني', 'كيني', 'كويتي', 'قيرغيزستاني', 'لاتفي', 'لبناني', 'ليبي', 'ليتواني', 'لوكسمبورغي', 'مقدوني', 'ماليزي', 'مالطي', 'مكسيكي', 'مولدوفي', 'منغولي', 'مونتينيغرين', 'مغربي', 'ناميبي', 'نيبالي', 'نيوزيلندي', 'نيكاراغواي', 'نيجيري', 'نرويجي', 'عماني', 'باكستاني', 'بنمي', 'باراغواي', 'بيروفي', 'فلبيني', 'بولندي', 'برتغالي', 'قطري', 'روماني', 'روسي', 'سعودي', 'صربي', 'سنغافوري', 'سلوفاكي', 'سلوفيني', 'صومالي', 'جنوب أفريقي', 'اوكراني', 'اميركي']"
   ]
  },
  {
   "cell_type": "code",
   "execution_count": 5,
   "id": "0fbbd698",
   "metadata": {},
   "outputs": [],
   "source": [
    "def return_named_entities(text):\n",
    "    # Perform NER on the text\n",
    "    results = ner_pipeline(text)\n",
    "\n",
    "    # Store named entities in a list of dictionaries\n",
    "    named_entities = []\n",
    "\n",
    "    for result in results:\n",
    "        entity_info = {\n",
    "            \"Entity\": result['word'],\n",
    "            \"Label\": result['entity'],\n",
    "            \"Score\": result['score']\n",
    "        }\n",
    "        named_entities.append(entity_info)\n",
    "        \n",
    "    return named_entities"
   ]
  },
  {
   "cell_type": "code",
   "execution_count": 6,
   "id": "4486bd71",
   "metadata": {},
   "outputs": [],
   "source": [
    "def return_combined_results(named_entities):\n",
    "    combined_results = []\n",
    "    current_entity = {\"word\": \"\", \"label\": \"\", \"score\": 0.0}\n",
    "\n",
    "    for result in named_entities:\n",
    "        entity_word = result[\"Entity\"]\n",
    "        label = result[\"Label\"]\n",
    "        score = result[\"Score\"]\n",
    "\n",
    "        # Check if the token starts with \"##\" and append it to the previous word\n",
    "        if entity_word.startswith(\"##\"):\n",
    "            current_entity[\"word\"] += entity_word[2:]\n",
    "        else:\n",
    "            # Non-continuation token, add the current entity to the results\n",
    "            if current_entity[\"word\"]:\n",
    "                combined_results.append(current_entity.copy())\n",
    "                current_entity = {\"word\": \"\", \"label\": \"\", \"score\": 0.0}\n",
    "\n",
    "            current_entity[\"word\"] = entity_word\n",
    "            current_entity[\"label\"] = label\n",
    "            current_entity[\"score\"] = score\n",
    "\n",
    "    # Add the last entity to the results if any\n",
    "    if current_entity[\"word\"]:\n",
    "        combined_results.append(current_entity.copy())\n",
    "        \n",
    "    return combined_results"
   ]
  },
  {
   "cell_type": "code",
   "execution_count": 7,
   "id": "88e3b43e",
   "metadata": {},
   "outputs": [],
   "source": [
    "def return_matched_nationalities(text, nationalities_lst):\n",
    "\n",
    "    matched_nationalities = set()\n",
    "\n",
    "    # Replace \"أ\" with \"ا\"\n",
    "    text = text.replace(\"أ\", \"ا\")\n",
    "\n",
    "    # Replace \"إ\" with \"ا\"\n",
    "    text = text.replace(\"إ\", \"ا\")\n",
    "\n",
    "    # Define the part of the word you want to search for\n",
    "    for element in nationalities_lst:\n",
    "        search_part = element\n",
    "\n",
    "        # Create a regex pattern to find the search part\n",
    "        pattern = re.compile(r\"\\b\\w*\" + re.escape(search_part) + r\"\\w*\\b\")\n",
    "\n",
    "        # Find all the matched words in the sentence\n",
    "        matched_words = re.findall(pattern, text)\n",
    "\n",
    "        # Check if any words are found\n",
    "        if matched_words:\n",
    "            for word in matched_words:\n",
    "                matched_nationalities.add(word)\n",
    "        else:\n",
    "            continue  \n",
    "            \n",
    "    return matched_nationalities"
   ]
  },
  {
   "cell_type": "code",
   "execution_count": 15,
   "id": "57faffa1",
   "metadata": {},
   "outputs": [],
   "source": [
    "def extract_arabic_dates(text):\n",
    "    # Define a regex pattern for the date format with a single slash\n",
    "    pattern = re.compile(r'\\b(\\d{1,2})\\\\(\\d{1,2})\\\\(\\d{4})\\b')\n",
    "\n",
    "    # Find all matches in the text\n",
    "    matches = re.findall(pattern, text)\n",
    "\n",
    "    # Format the matches as \"١٠\\١٠\\٢٠٢٣\"\n",
    "    formatted_dates = [f\"{day}\\\\{month}\\\\{year}\" for day, month, year in matches]\n",
    "\n",
    "    return formatted_dates"
   ]
  },
  {
   "cell_type": "code",
   "execution_count": 9,
   "id": "c5768e37",
   "metadata": {},
   "outputs": [],
   "source": [
    "def return_persons_names(combined_results):\n",
    "    # Join and return consecutive words with the label \"B-PERSON\"\n",
    "    joined_persons = []\n",
    "    current_person = []\n",
    "\n",
    "    for entity in combined_results:\n",
    "        if entity['label'] == 'B-PERSON' or entity['label'] == 'I-PERSON':\n",
    "            current_person.append(entity['word'])\n",
    "        elif current_person:\n",
    "            joined_persons.append(' '.join(current_person))\n",
    "            current_person = []\n",
    "\n",
    "    # Add the last person if any\n",
    "    if current_person:\n",
    "        joined_persons.append(' '.join(current_person))\n",
    "\n",
    "    # Print or return the joined persons\n",
    "    return joined_persons"
   ]
  },
  {
   "cell_type": "code",
   "execution_count": 10,
   "id": "884f463c",
   "metadata": {},
   "outputs": [],
   "source": [
    "def return_key_words(combined_results, dates, matched_nationalities, persons_names):\n",
    "    # Create an empty set\n",
    "    key_words = set()\n",
    "\n",
    "    for result in combined_results:\n",
    "#         if result[\"label\"] != 'B-PRODUCT' and result[\"label\"] != 'I-PRODUCT' and result[\"label\"] != 'B-ORGANIZATION' and result[\"label\"] != \"I-DATE\" and result[\"label\"] != \"B-DATE\" and result[\"label\"] != \"I-PERSON\" and result[\"label\"] != \"B-PERSON\":\n",
    "        if result[\"label\"] == \"I-LOCATION\" or result[\"label\"] == \"B-LOCATION\" or result[\"label\"] == \"I-ORGANIZATION\":\n",
    "            key_words.add(result[\"word\"])\n",
    "        else:\n",
    "            continue\n",
    "\n",
    "    for date in dates:\n",
    "        key_words.add(dates)\n",
    "\n",
    "    for nationality in matched_nationalities:\n",
    "        key_words.add(nationality)\n",
    "\n",
    "    for person in persons_names:\n",
    "        key_words.add(person)\n",
    "        \n",
    "    return key_words"
   ]
  },
  {
   "cell_type": "code",
   "execution_count": 11,
   "id": "2bc2fcea",
   "metadata": {},
   "outputs": [],
   "source": [
    "# def return_colored_text(text, matched_nationalities, combined_results, dates):\n",
    "#     # Check if the word is a nationality\n",
    "#     for result in matched_nationalities:\n",
    "#         text = text.replace(result, colored(result, on_color='on_green'))\n",
    "\n",
    "#     for result in combined_results:\n",
    "#         if result['label'] == \"B-PERSON\" or result['label'] == \"I-PERSON\":\n",
    "#             text = text.replace(result['word'], colored(result['word'], on_color='on_blue'))\n",
    "#         elif result['label'] == \"B-LOCATION\" or result['label'] == \"I-LOCATION\":\n",
    "#             text = text.replace(result['word'], colored(result['word'], on_color='on_green'))\n",
    "#         elif result['label'] == \"B-ORGANIZATION\" or result['label'] == \"I-ORGANIZATION\":\n",
    "#             text = text.replace(result['word'], colored(result['word'], on_color='on_red'))\n",
    "#         elif result['label'] == \"B-EVENT\":\n",
    "#             text = text.replace(result['word'], colored(result['word'], on_color='on_yellow'))\n",
    "#         elif result['label'] == \"I-EVENT\":\n",
    "#             text = text.replace(result['word'], colored(result['word'], on_color='on_magenta'))\n",
    "#         elif result['label'] == \"I-LOCATION\":\n",
    "#             text = text.replace(result['word'], colored(result['word'], on_color='on_green'))\n",
    "\n",
    "#     for date in dates:\n",
    "#         text = text.replace(i, colored(i, on_color='on_white'))\n",
    "#     # Print or return the colored sentence\n",
    "#     return colored_text"
   ]
  },
  {
   "cell_type": "code",
   "execution_count": 17,
   "id": "66b3c002",
   "metadata": {},
   "outputs": [],
   "source": [
    "def return_results(text):\n",
    "    named_entities = return_named_entities(text)\n",
    "    combined_results = return_combined_results(named_entities)\n",
    "    matched_nationalities = return_matched_nationalities(text, nationalities_lst)\n",
    "    dates = extract_arabic_dates(text)\n",
    "    persons_names = return_persons_names(combined_results)\n",
    "    key_words = return_key_words(combined_results, dates, matched_nationalities, persons_names)\n",
    "    return key_words"
   ]
  },
  {
   "cell_type": "code",
   "execution_count": 18,
   "id": "2f918ec9",
   "metadata": {},
   "outputs": [],
   "source": [
    "text = \"أكد وزير الخارجية السعودي، اليوم السبت، أن الأحداث المأساوية في فلسطين تحتم علينا التحرك العاجل لوقف إطلاق النار، معلناً رفض بلاده بشكل قاطع تهجير الفلسطينيين من أراضيهم. وطالب خلال كلمته في قمة السلام بالقاهرة بفتح فوري لممرات إنسانية آمنة إلى غزة، داعياً المجتمع الدولي إلى إلزام إسرائيل بالتقيد بالقانون الدولي. وقال خلال مشاركته في القمة: «نرفض محاولات التهجير القسري للفلسطينيين، وإننا نعرب عن خيبة أملنا في عجز مجلس الأمن الدولي عن اتخاذ موقف حيال الأزمة الحالية في غزة حتى الآن، ونطالب بفتح فوري لممرات إنسانية آمنة». وعبر وزير الخارجية السعودية عن أمله في أن تسهم هذه القمة في تحرك حاسم للمجتمع الدولي لإيجاد حل لهذه الأزمة، مؤكداً على «تمسك المملكة بالسلام خياراً استراتيجياً عبر الوقوف مع الشعب الفلسطيني لاستعادة حقوقه المشروعة». وقدم وزير الخارجية السعودي الشكر للرئيس المصري عبد الفتاح السيسي، وحكومة مصر، على الجهود المبذولة «لتعزيز التنسيق والتشاور الإقليمي والدولي تجاه ما نشهده من تطورات خطيرة في قطاع غزة». كان الأمير فيصل بن فرحان بن عبد الله وزير الخارجية السعودي، وصل اليوم إلى العاصمة المصرية القاهرة، لترؤس وفد المملكة المشارك في قمة القاهرة للسلام، والمنعقدة بشأن مناقشة الصراع في غزة ومحيطها، ومستقبل القضية الفلسطينية، وذلك نيابةً عن الأمير محمد بن سلمان بن عبد العزيز ولي العهد رئيس مجلس الوزراء كما شارك بوتين. ويشارك في القمة عدد من الدول والمنظمات الدولية لبحث تطورات الأوضاع الراهنة في فلسطين، والعمل على حماية المدنيين في قطاع غزة المُحاصر، والسماح بفتح ممرات آمنة، وإدخال المساعدات الإنسانية والطبية والغذائية\""
   ]
  },
  {
   "cell_type": "code",
   "execution_count": 19,
   "id": "cd2cc937",
   "metadata": {},
   "outputs": [],
   "source": [
    "results = return_results(text)"
   ]
  },
  {
   "cell_type": "code",
   "execution_count": 20,
   "id": "90845977",
   "metadata": {},
   "outputs": [
    {
     "name": "stdout",
     "output_type": "stream",
     "text": [
      "{'السعودي', 'فيصل بن فرحان بن عبد الله', 'الفلسطيني', 'الفلسطينية', 'اسرائيل', 'محمد بن سلمان بن عبد العزيز', 'الفلسطينيين', 'عبد الفتاح السيسي', 'بالقاهرة', 'غزة', 'الامن', 'السعودية', 'القاهرة', 'الدولي', 'بوتين', 'للفلسطينيين', 'فلسطين', 'المصري', 'الوزراء', 'المصرية', 'مصر', 'قطاع'}\n"
     ]
    }
   ],
   "source": [
    "print(results)"
   ]
  }
 ],
 "metadata": {
  "kernelspec": {
   "display_name": "Python 3 (ipykernel)",
   "language": "python",
   "name": "python3"
  },
  "language_info": {
   "codemirror_mode": {
    "name": "ipython",
    "version": 3
   },
   "file_extension": ".py",
   "mimetype": "text/x-python",
   "name": "python",
   "nbconvert_exporter": "python",
   "pygments_lexer": "ipython3",
   "version": "3.11.5"
  }
 },
 "nbformat": 4,
 "nbformat_minor": 5
}
